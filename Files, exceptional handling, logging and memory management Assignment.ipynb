{
 "cells": [
  {
   "cell_type": "code",
   "execution_count": null,
   "id": "d8222968-7e28-4c71-84b6-d9b74b29837f",
   "metadata": {},
   "outputs": [],
   "source": [
    "#What is the difference between interpreted and compiled languages?\n",
    "\n",
    "'''\n",
    "->COMPILED LANGUAGE\n",
    "1. A compiled language is a programming language whose implementations are typically compilers and not interpreters.\n",
    "2. In this language, once the program is compiled it is expressed in the instructions of the target machine.\n",
    "3. There are at least two steps to get from source code to execution.\n",
    "4. In this language, compiled programs run faster than interpreted programs.\n",
    "5. In this language, compilation errors prevent the code from compiling.\n",
    "\n",
    "EXAMPLE OF COMPILED LANGUAGE \n",
    "– C, C++, C#, CLEO, COBOL, etc.\n",
    "\n",
    "INTERPRETED LANGUAGE\n",
    "1. An interpreted language is a programming language whose implementations execute instructions directly and freely, without previously compiling a program into machine-language instructions.\n",
    "2. While in this language, the instructions are not directly executed by the target machine.\n",
    "3. There is only one step to get from source code to execution.\n",
    "4. While in this language, interpreted programs can be modified while the program is running.\n",
    "5. In this languages, all the debugging occurs at run-time.\n",
    "\n",
    "EXAMPLE OF INTERPRETED LANGUAGE\n",
    "– JavaScript, Perl, Python, BASIC, etc.\n",
    "\n",
    "'''"
   ]
  },
  {
   "cell_type": "code",
   "execution_count": null,
   "id": "650ce050-c876-4462-86cb-54c7dbf00b5b",
   "metadata": {},
   "outputs": [],
   "source": [
    "#What is exception handling in Python?\n",
    "\n",
    "'''\n",
    "->Python Exception Handling handles errors that occur during the execution of a program.\n",
    "- Exception handling allows to respond to the error, instead of crashing the running program. \n",
    "- It enables you to catch and manage errors, making your code more robust and user-friendly.\n",
    "\n",
    "'''"
   ]
  },
  {
   "cell_type": "code",
   "execution_count": 1,
   "id": "02cc6801-4acc-4e27-8a9c-3ae44a5b9e54",
   "metadata": {},
   "outputs": [
    {
     "name": "stdout",
     "output_type": "stream",
     "text": [
      "Can't be divided by zero!\n"
     ]
    }
   ],
   "source": [
    "# Simple Exception Handling Example\n",
    "n = 10\n",
    "try:\n",
    "    res = n / 0  # This will raise a ZeroDivisionError\n",
    "    \n",
    "except ZeroDivisionError:\n",
    "    print(\"Can't be divided by zero!\")"
   ]
  },
  {
   "cell_type": "code",
   "execution_count": null,
   "id": "c0014fa4-9e17-45ef-93e7-41c90808c155",
   "metadata": {},
   "outputs": [],
   "source": [
    "#What is the purpose of the finally block in exception handling?\n",
    "\n",
    "'''\n",
    "->The finally block in exception handling is used to define a section of code that always executes, regardless of whether an exception was raised or not, and whether it was handled or not.\n",
    "\n",
    "Purpose of the finally block:\n",
    "\n",
    "- Resource cleanup: It's commonly used to release system resources like files, network connections, or database connections.\n",
    "\n",
    "- Consistent end-of-block execution: Ensures certain critical operations are performed even if an error occurs—like resetting variables, closing files, or logging completion.\n",
    "\n",
    "'''"
   ]
  },
  {
   "cell_type": "code",
   "execution_count": null,
   "id": "b446347e-8ac8-4970-b7d2-c612f5e13503",
   "metadata": {},
   "outputs": [],
   "source": [
    "try:\n",
    "    file = open(\"data.txt\", \"r\")\n",
    "    data = file.read()\n",
    "except FileNotFoundError:\n",
    "    print(\"File not found.\")\n",
    "finally:\n",
    "    file.close()  # This runs no matter what\n"
   ]
  },
  {
   "cell_type": "code",
   "execution_count": null,
   "id": "3506aac3-30a9-4240-9479-317cb8110a4b",
   "metadata": {},
   "outputs": [],
   "source": [
    "#What is logging in python?\n",
    "\n",
    "'''\n",
    "->Logging in Python is a way to track events that happen while your program runs. It helps you understand the program’s flow and diagnose issues, especially in larger or production-level applications.\n",
    "\n",
    "Purpose of Logging:\n",
    "\n",
    "- Record program events, errors, and warnings\n",
    "\n",
    "- Help with debugging and monitoring\n",
    "\n",
    "- Avoid using print() for diagnostics in deployed code\n",
    "\n",
    "Python logging Module:\n",
    "\n",
    "Python comes with a built-in logging module that provides flexible logging facilities.\n",
    "\n",
    "'''"
   ]
  },
  {
   "cell_type": "code",
   "execution_count": null,
   "id": "14141c11-36f4-4b0e-b4e4-fc9de67b849a",
   "metadata": {},
   "outputs": [],
   "source": [
    "#Example of logging in python?\n",
    "import logging\n",
    "\n",
    "logging.basicConfig(level=logging.INFO)\n",
    "logging.info(\"This is an informational message.\")\n"
   ]
  },
  {
   "cell_type": "code",
   "execution_count": null,
   "id": "3b9c6503-3ea4-4e28-9c61-a27ab24fc6ca",
   "metadata": {},
   "outputs": [],
   "source": [
    "#What is the significance of the __del__ method in Python?\n",
    "\n",
    "'''\n",
    "->The __del__ method in Python is known as a destructor. It's a special method that is called when an object is about to be destroyed, typically when its reference count reaches zero and it is garbage collected.\n",
    "\n",
    "Significance of __del__:\n",
    "Used to clean up resources such as closing files, network connections, or releasing memory explicitly before the object is removed from memory.\n",
    "\n",
    "It provides a way to define custom cleanup behavior for objects.\n",
    "\n",
    "'''"
   ]
  },
  {
   "cell_type": "code",
   "execution_count": null,
   "id": "6bb894f7-dbe8-4a5e-8cc4-3be1315d420f",
   "metadata": {},
   "outputs": [],
   "source": [
    "class FileHandler:\n",
    "    def __init__(self, filename):\n",
    "        self.file = open(filename, 'r')\n",
    "        print(\"File opened.\")\n",
    "\n",
    "    def __del__(self):\n",
    "        self.file.close()\n",
    "        print(\"File closed.\")\n",
    "\n",
    "f = FileHandler(\"data.txt\")\n",
    "# When f is deleted or goes out of scope, __del__ is called\n"
   ]
  },
  {
   "cell_type": "code",
   "execution_count": null,
   "id": "0d7c06ad-1254-4fe9-8d66-1e4f75e45e18",
   "metadata": {},
   "outputs": [],
   "source": [
    "#What is the difference between import and from ... import in Python?\n",
    "\n",
    "'''\n",
    "->In Python, both import and from ... import are used to bring in external modules or specific components from those modules, but they differ in what they import and how you access the imported names.\n",
    "\n",
    "1. import module\n",
    "- Imports the entire module.\n",
    "\n",
    "- You access functions, classes, or variables with the module name as a prefix.\n",
    "\n",
    "2. from module import name\n",
    "- Imports only the specified name(s) from the module.\n",
    "\n",
    "- You can access the imported name directly, without the module prefix.\n",
    "'''"
   ]
  },
  {
   "cell_type": "code",
   "execution_count": 1,
   "id": "ed3c7795-793c-4ed4-bd79-4b3850a3b5ac",
   "metadata": {},
   "outputs": [
    {
     "name": "stdout",
     "output_type": "stream",
     "text": [
      "4.0\n"
     ]
    }
   ],
   "source": [
    "#Example of import module\n",
    "import math\n",
    "print(math.sqrt(16))  # Output: 4.0\n"
   ]
  },
  {
   "cell_type": "code",
   "execution_count": 2,
   "id": "abd49ab5-bc80-4ae0-9d2a-bb2a19275af6",
   "metadata": {},
   "outputs": [
    {
     "name": "stdout",
     "output_type": "stream",
     "text": [
      "4.0\n"
     ]
    }
   ],
   "source": [
    "#Example of module import name\n",
    "from math import sqrt\n",
    "print(sqrt(16))  # Output: 4.0\n"
   ]
  },
  {
   "cell_type": "code",
   "execution_count": null,
   "id": "79d04457-0998-4fad-a9c8-684fdca02c24",
   "metadata": {},
   "outputs": [],
   "source": [
    "#How can you handle multiple exceptions in Python?\n",
    "\n",
    "'''\n",
    "->In Python, you can handle multiple exceptions using several approaches, depending on whether you want to handle them together or separately.\n",
    "\n",
    "1. Handle Multiple Exceptions Together\n",
    "Use a single except block with a tuple of exception types:\n",
    "\n",
    "2. Handle Multiple Exceptions Separately \n",
    "Use multiple except blocks, each for a specific exception:\n",
    "\n",
    "3. Catch All Exceptions (Use With Care)\n",
    "Use a generic except block (or except Exception) to catch any exception:\n",
    "\n",
    "'''"
   ]
  },
  {
   "cell_type": "code",
   "execution_count": 3,
   "id": "dfe16656-cd78-4f73-ac24-a46926a4ee29",
   "metadata": {},
   "outputs": [
    {
     "name": "stdout",
     "output_type": "stream",
     "text": [
      "Handled error: invalid literal for int() with base 10: 'abc'\n"
     ]
    }
   ],
   "source": [
    "#Example of handle multiple exceptions together\n",
    "try:\n",
    "    # some code\n",
    "    x = int(\"abc\")\n",
    "except (ValueError, TypeError) as e:\n",
    "    print(f\"Handled error: {e}\")\n"
   ]
  },
  {
   "cell_type": "code",
   "execution_count": 4,
   "id": "6901c71c-9053-401e-b963-522054289916",
   "metadata": {},
   "outputs": [
    {
     "name": "stdout",
     "output_type": "stream",
     "text": [
      "Cannot divide by zero.\n"
     ]
    }
   ],
   "source": [
    "#Example of handle multiple exceptions separately \n",
    "try:\n",
    "    # some code\n",
    "    result = 10 / 0\n",
    "except ZeroDivisionError:\n",
    "    print(\"Cannot divide by zero.\")\n",
    "except ValueError:\n",
    "    print(\"Invalid value.\")\n"
   ]
  },
  {
   "cell_type": "code",
   "execution_count": null,
   "id": "e7910914-fbcc-4a6c-b8f5-86bc0d71e84a",
   "metadata": {},
   "outputs": [],
   "source": [
    "#Example of Catch All Exceptions (Use With Care)\n",
    "try:\n",
    "    # some code\n",
    "    open(\"nonexistent.txt\")\n",
    "except Exception as e:\n",
    "    print(f\"Unexpected error: {e}\")\n"
   ]
  },
  {
   "cell_type": "code",
   "execution_count": null,
   "id": "91694783-f9fe-4249-a9e2-dd7251bace68",
   "metadata": {},
   "outputs": [],
   "source": [
    "#What is the purpose of the with statement when handling files in Python?\n",
    "\n",
    "'''\n",
    "->The with statement in Python is used when working with files (and other resources) to ensure that they are properly managed, especially regarding opening and closing.\n",
    "\n",
    " Purpose of with for Files:\n",
    " It ensures that:\n",
    "\n",
    "- The file is automatically closed after the block of code is executed, even if an error occurs.\n",
    "\n",
    "- You don’t have to manually call file.close().\n",
    "\n",
    " Benefits:\n",
    "Cleaner syntax\n",
    "\n",
    "Fewer bugs from forgetting to close files\n",
    "\n",
    "Better resource management\n",
    "\n",
    "'''\n"
   ]
  },
  {
   "cell_type": "code",
   "execution_count": null,
   "id": "1dec348b-d4b3-4b45-86af-c27f0b2cea78",
   "metadata": {},
   "outputs": [],
   "source": [
    "#Example Without with:\n",
    "file = open(\"example.txt\", \"r\")\n",
    "data = file.read()\n",
    "file.close()  # You must remember to close it manually\n"
   ]
  },
  {
   "cell_type": "code",
   "execution_count": null,
   "id": "3ea63da6-3460-42a5-8f7e-ddcd0678d77b",
   "metadata": {},
   "outputs": [],
   "source": [
    "#Equivalent Using with:\n",
    "with open(\"example.txt\", \"r\") as file:\n",
    "    data = file.read()\n",
    "# File is automatically closed here\n"
   ]
  },
  {
   "cell_type": "code",
   "execution_count": null,
   "id": "e3960967-dc1c-47e7-af7b-7b37f38951e0",
   "metadata": {},
   "outputs": [],
   "source": [
    "#What is the difference between multithreading and multiprocessing?\n",
    "\n",
    "'''\n",
    "->The main difference between multithreading and multiprocessing in Python lies in how they handle concurrency and how they interact with the CPU and memory.\n",
    "\n",
    " Multithreading\n",
    "Uses threads (lightweight processes) within a single process.\n",
    "\n",
    "Threads share the same memory space.\n",
    "\n",
    "Best for I/O-bound tasks (e.g., file I/O, network operations).\n",
    "\n",
    "Limited by Python's Global Interpreter Lock (GIL), which prevents multiple threads from executing Python bytecode simultaneously on multiple cores.\n",
    "\n",
    "Example Use Case: Downloading files concurrently or handling multiple socket connections.\n",
    "\n",
    " Multiprocessing\n",
    "Uses separate processes, each with its own Python interpreter and memory space.\n",
    "\n",
    "Avoids the GIL, so it fully utilizes multiple CPU cores.\n",
    "\n",
    "Best for CPU-bound tasks (e.g., heavy computation, data processing).\n",
    "\n",
    "More memory overhead due to separate processes.\n",
    "\n",
    "Example Use Case: Image processing, numerical simulations, machine learning training.\n",
    "'''"
   ]
  },
  {
   "cell_type": "code",
   "execution_count": null,
   "id": "795c55ae-045d-4562-809f-9157671f9223",
   "metadata": {},
   "outputs": [],
   "source": [
    "#What are the advantages of using logging in a program?\n",
    "\n",
    "'''\n",
    "->Using logging in a program provides many important advantages over simple print() statements, especially in larger or production-grade applications.\n",
    "\n",
    "Key Advantages of Logging in Python:\n",
    " 1. Persistent Records\n",
    "Logs can be saved to files for future review, debugging, or auditing.\n",
    "\n",
    "Unlike print(), logs don't disappear when the program exits.\n",
    "\n",
    " 2. Flexible Severity Levels\n",
    "Logging supports levels like:\n",
    "\n",
    "DEBUG: Detailed diagnostic info.\n",
    "\n",
    "INFO: General operational messages.\n",
    "\n",
    "WARNING: Something unexpected but not critical.\n",
    "\n",
    "ERROR: A serious issue.\n",
    "\n",
    "CRITICAL: A severe error causing program shutdown.\n",
    "'''"
   ]
  },
  {
   "cell_type": "code",
   "execution_count": null,
   "id": "e336a8fe-c830-4530-b747-072db3899c52",
   "metadata": {},
   "outputs": [],
   "source": [
    "#example\n",
    "logging.warning(\"Low disk space\")\n"
   ]
  },
  {
   "cell_type": "code",
   "execution_count": null,
   "id": "14ce1d3e-7d08-4e5a-9670-1c9fd49e1509",
   "metadata": {},
   "outputs": [],
   "source": [
    "'''\n",
    " 3. Better Debugging\n",
    "Helps trace program execution and errors without using breakpoints or cluttering the output.\n",
    "\n",
    " 4. Separation of Concerns\n",
    "Keeps diagnostic output separate from program logic and user interface.\n",
    "\n",
    " 5. Configurable Output\n",
    "Can direct logs to files, consoles, remote servers, or rotate logs automatically.\n",
    "\n",
    "Supports timestamps, source info, formatting, etc.\n",
    "\n",
    " 6. Scalable for Large Applications\n",
    "Logging can be turned on/off or changed in granularity without modifying source code.\n",
    "\n",
    "'''"
   ]
  },
  {
   "cell_type": "code",
   "execution_count": null,
   "id": "308ca89c-1c13-4141-a100-d1fc7306f686",
   "metadata": {},
   "outputs": [],
   "source": [
    "#example setup\n",
    "import logging\n",
    "\n",
    "logging.basicConfig(filename='app.log', level=logging.INFO)\n",
    "logging.info(\"Application started\")\n"
   ]
  },
  {
   "cell_type": "code",
   "execution_count": null,
   "id": "afafb372-9c3f-4652-992b-96b32cd12d5d",
   "metadata": {},
   "outputs": [],
   "source": [
    "#What is memory management in Python?\n",
    "\n",
    "'''\n",
    "->Memory management in Python refers to how Python handles the allocation, use, and release of memory during a program’s execution. Python does this mostly behind the scenes, but it includes several key components and strategies.\n",
    "\n",
    "Key Components of Python Memory Management\n",
    "1. Automatic Garbage Collection\n",
    "Python automatically reclaims memory that is no longer in use.\n",
    "\n",
    "It uses a technique called reference counting and also detects cyclic references with a garbage collector.\n",
    "\n",
    "2. Reference Counting\n",
    "Every object keeps track of how many references point to it.\n",
    "\n",
    "When the count drops to zero, the memory is freed.\n",
    "'''"
   ]
  },
  {
   "cell_type": "code",
   "execution_count": 7,
   "id": "9d8cb963-4d63-4dd5-b868-a63860b6cfa4",
   "metadata": {},
   "outputs": [],
   "source": [
    "#example \n",
    "a = [1, 2, 3]\n",
    "b = a       # ref count = 2\n",
    "del a       # ref count = 1\n",
    "del b       # ref count = 0 → memory reclaimed\n"
   ]
  },
  {
   "cell_type": "code",
   "execution_count": null,
   "id": "03fefb43-565a-40bf-ab33-27ab30caf4b8",
   "metadata": {},
   "outputs": [],
   "source": [
    "'''\n",
    "3. Garbage Collector\n",
    "Deals with reference cycles (e.g., two objects referencing each other but not used elsewhere).\n",
    "\n",
    "Managed by the gc module.\n",
    "\n",
    "4. Private Heap Space\n",
    "All Python objects and data structures are stored in a private heap.\n",
    "\n",
    "The interpreter manages this heap, not the programmer.\n",
    "\n",
    "5. Memory Pools (via PyMalloc)\n",
    "Python uses a system of memory pools to reduce overhead and fragmentation.\n",
    "\n",
    "Improves performance by reusing memory blocks.\n",
    "'''"
   ]
  },
  {
   "cell_type": "code",
   "execution_count": null,
   "id": "599e67e0-e529-4405-bba8-10a21e88ad91",
   "metadata": {},
   "outputs": [],
   "source": [
    "# What are the basic steps involved in exception handling in Python?\n",
    "\n",
    "'''\n",
    "->In Python, exception handling is a structured way to catch and handle runtime errors without crashing the program. The basic steps involve using specific keywords and blocks to manage errors gracefully.\n",
    "\n",
    " Basic Steps in Python Exception Handling:\n",
    "1. Try Block – Identify Risky Code\n",
    "Wrap code that might raise an exception in a try block.\n",
    "\n",
    "2.Except Block – Handle Specific Exceptions\n",
    "Catch and respond to specific (or general) exceptions.\n",
    "\n",
    "3.Else Block (Optional) – Run If No Exception\n",
    "Executes if the try block runs without any exception.\n",
    "\n",
    "4.Finally Block (Optional) – Always Run\n",
    "Executes no matter what—useful for cleanup (e.g., closing files).\n",
    "\n",
    "'''"
   ]
  },
  {
   "cell_type": "code",
   "execution_count": null,
   "id": "374a650e-15e9-41a9-93e8-5241d3cd593b",
   "metadata": {},
   "outputs": [],
   "source": [
    "#example of Try block try:\n",
    "    result = 10 / 0\n"
   ]
  },
  {
   "cell_type": "code",
   "execution_count": null,
   "id": "6d8bb4d6-3148-4637-8f37-014a2ebf4f2e",
   "metadata": {},
   "outputs": [],
   "source": [
    "#Example of Except block\n",
    "except ZeroDivisionError:\n",
    "    print(\"You can't divide by zero!\")\n"
   ]
  },
  {
   "cell_type": "code",
   "execution_count": null,
   "id": "c51691a7-be5d-4c0a-b42a-0e3643a66e2c",
   "metadata": {},
   "outputs": [],
   "source": [
    "#Example of Else block\n",
    "else:\n",
    "print(\"Operation successful!\")\n"
   ]
  },
  {
   "cell_type": "code",
   "execution_count": null,
   "id": "56f17cf5-d56c-4cf1-8ad8-a9d02205f506",
   "metadata": {},
   "outputs": [],
   "source": [
    "#Example of Finally block\n",
    "finally:\n",
    "    print(\"Execution finished.\")\n"
   ]
  },
  {
   "cell_type": "code",
   "execution_count": 8,
   "id": "7f3630f8-e3e9-4cb8-99fa-1d7231463714",
   "metadata": {},
   "outputs": [
    {
     "name": "stdin",
     "output_type": "stream",
     "text": [
      "Enter a number:  1234\n"
     ]
    },
    {
     "name": "stdout",
     "output_type": "stream",
     "text": [
      "Result is 0.008103727714748784\n",
      "Program complete.\n"
     ]
    }
   ],
   "source": [
    "#Example:\n",
    "try:\n",
    "    number = int(input(\"Enter a number: \"))\n",
    "    result = 10 / number\n",
    "except ZeroDivisionError:\n",
    "    print(\"Cannot divide by zero.\")\n",
    "except ValueError:\n",
    "    print(\"Invalid input. Please enter a number.\")\n",
    "else:\n",
    "    print(f\"Result is {result}\")\n",
    "finally:\n",
    "    print(\"Program complete.\")\n"
   ]
  },
  {
   "cell_type": "code",
   "execution_count": null,
   "id": "5ef30ac6-ccd5-4bd2-bd05-db35e910ac38",
   "metadata": {},
   "outputs": [],
   "source": [
    "#Why is memory management important in Python\n",
    "\n",
    "'''\n",
    "->Memory management is important in Python because it directly affects your program’s performance, stability, and scalability.\n",
    "Even though Python automates much of this through garbage collection and memory allocation systems, understanding and respecting how memory is used helps you write more efficient and reliable code.\n",
    "\n",
    "Key Reasons Why Memory Management Matters:\n",
    "1. Performance Optimization\n",
    "Poor memory usage can slow down your program due to frequent allocations or garbage collection.\n",
    "\n",
    "Efficient memory management can reduce latency and speed up execution.\n",
    "\n",
    "2. Prevents Memory Leaks\n",
    "Even in Python, memory leaks can happen (especially with global variables, closures, or circular references).\n",
    "\n",
    "Proper management ensures memory is freed when no longer needed.\n",
    "\n",
    "3. Resource Efficiency\n",
    "On memory-constrained systems (like embedded devices or cloud VMs), wasting memory can crash programs or slow them down.\n",
    "\n",
    "4. Long-Running Applications\n",
    "Web servers, background tasks, or daemons must release memory properly to avoid gradual performance degradation over time.\n",
    "\n",
    "5.  Debugging and Maintenance\n",
    "Understanding memory behavior helps you diagnose issues like:\n",
    "\n",
    "Excessive memory usage\n",
    "\n",
    "Unexpected crashes\n",
    "\n",
    "Objects not being garbage collected\n",
    "\n",
    "6. Cost Control in the Cloud\n",
    "Cloud environments charge based on memory usage. Efficient memory management reduces operational costs.\n",
    "\n",
    "'''"
   ]
  },
  {
   "cell_type": "code",
   "execution_count": null,
   "id": "a8d31990-c839-4584-a5e8-03c1b526ae26",
   "metadata": {},
   "outputs": [],
   "source": [
    "#Example Scenario:\n",
    "'''If you load a large dataset and forget to free it (or keep unnecessary references), your app may run out of memory or slow down significantly — even though Python is \"managing memory\" behind the scenes."
   ]
  },
  {
   "cell_type": "code",
   "execution_count": null,
   "id": "de814297-7fb4-4a44-9027-04b4eef728f1",
   "metadata": {},
   "outputs": [],
   "source": [
    "#What is the role of try and except in exception handling?\n",
    "\n",
    "'''\n",
    "->The try and except blocks are the core components of exception handling in Python. They allow you to detect and gracefully handle errors that occur during the execution of your program, instead of letting the program crash.\n",
    "\n",
    " - Role of try Block\n",
    "Purpose: Wraps code that might raise an exception.\n",
    "\n",
    "If everything runs smoothly, Python skips the except block.\n",
    "\n",
    "If an exception occurs, Python immediately jumps to the matching except block.\n",
    "\n",
    " - Role of except Block\n",
    "Purpose: Catches and handles the exception raised in the try block.\n",
    "\n",
    "You can catch specific exception types (e.g., ValueError, ZeroDivisionError).\n",
    "\n",
    "Prevents the program from crashing and allows you to respond appropriately.\n",
    "\n",
    "'''"
   ]
  },
  {
   "cell_type": "code",
   "execution_count": null,
   "id": "5d0977f7-9b2b-4172-bfcd-6672d52f9b23",
   "metadata": {},
   "outputs": [],
   "source": [
    "#Example of Role of try block \n",
    "try:\n",
    "    result = 10 / 0  # This will raise ZeroDivisionError\n"
   ]
  },
  {
   "cell_type": "code",
   "execution_count": null,
   "id": "266e1e88-7331-4b1a-8e18-69e37e02640b",
   "metadata": {},
   "outputs": [],
   "source": [
    "#Example of Role of except block\n",
    "except ZeroDivisionError:\n",
    "    print(\"Cannot divide by zero.\")\n"
   ]
  },
  {
   "cell_type": "code",
   "execution_count": 1,
   "id": "2ecafdd2-5dc1-4f72-ab02-18a32cea7f9f",
   "metadata": {},
   "outputs": [
    {
     "name": "stdin",
     "output_type": "stream",
     "text": [
      "Enter a number:  8\n"
     ]
    }
   ],
   "source": [
    "try:\n",
    "    num = int(input(\"Enter a number: \"))\n",
    "    result = 10 / num\n",
    "except ValueError:\n",
    "    print(\"Please enter a valid integer.\")\n",
    "except ZeroDivisionError:\n",
    "    print(\"Cannot divide by zero.\")\n"
   ]
  },
  {
   "cell_type": "code",
   "execution_count": null,
   "id": "0e1bf936-b43d-4120-b2e6-e9ec906ee987",
   "metadata": {},
   "outputs": [],
   "source": [
    "#How does Python's garbage collection system work?\n",
    "\n",
    "'''\n",
    "->Python uses automatic garbage collection to manage memory, meaning it automatically reclaims memory occupied by objects no longer in use. Python’s garbage collection system primarily relies on two mechanisms:\n",
    "\n",
    "1. Reference Counting\n",
    "Every Python object keeps track of how many references point to it. This is the most immediate way Python decides when to free memory.\n",
    "\n",
    "- When the reference count drops to zero, the object is immediately deallocated.\n",
    "\n",
    "2. Cycle Detection (Generational Garbage Collection)\n",
    "Reference counting fails with circular references (e.g., object A refers to object B, and B refers back to A). To handle this, Python includes a cyclic garbage collector, implemented in the gc module.\n",
    "\n",
    "- Python divides objects into three generations (0, 1, and 2).\n",
    "\n",
    "- New objects start in generation 0.\n",
    "\n",
    "- If they survive a garbage collection, they're promoted to the next generation.\n",
    "\n",
    "- The garbage collector periodically examines generations for unreachable cycles and reclaims them.\n",
    "\n",
    "Why Generations?\n",
    "- Most objects die young (short-lived), so gen 0 is collected most often.\n",
    "\n",
    "- Gen 1 and Gen 2 are collected less frequently, which improves performance.\n",
    "\n",
    "\n",
    "'''"
   ]
  },
  {
   "cell_type": "code",
   "execution_count": null,
   "id": "239ede6d-a6f6-4963-8add-a46d260f723f",
   "metadata": {},
   "outputs": [],
   "source": [
    "#Example of reference counting\n",
    "#a = []        # reference count = 1\n",
    "b = a         # reference count = 2\n",
    "del a         # reference count = 1\n",
    "del b         # reference count = 0 → object is destroyed\n"
   ]
  },
  {
   "cell_type": "code",
   "execution_count": null,
   "id": "e341a6cf-799a-4731-9cbd-17b00e758ce5",
   "metadata": {},
   "outputs": [],
   "source": [
    "#What is the purpose of the else block in exception handling?\n",
    "\n",
    "'''\n",
    "->The else block in Python’s try...except structure is used to define code that should run only if no exception was raised in the try block.\n",
    "\n",
    "Purpose:\n",
    "To separate the code that might raise an exception from the code that should only run after the try block succeeds.\n",
    "\n",
    "It improves readability and avoids accidentally catching exceptions that were not expected.\n",
    "'''"
   ]
  },
  {
   "cell_type": "code",
   "execution_count": null,
   "id": "eb04db2a-53d6-46e6-821b-d9c52a653d56",
   "metadata": {},
   "outputs": [],
   "source": [
    "#SYNTAX\n",
    "try:\n",
    "    # Code that may raise an exception\n",
    "except SomeException:\n",
    "    # Handle the exception\n",
    "else:\n",
    "    # This runs only if no exception occurred in the try block\n"
   ]
  },
  {
   "cell_type": "code",
   "execution_count": 3,
   "id": "09036c33-65b5-40dc-815a-e585f12419a4",
   "metadata": {},
   "outputs": [],
   "source": [
    "#Example\n",
    "def divide(a, b):\n",
    "    try:\n",
    "        result = a / b\n",
    "    except ZeroDivisionError:\n",
    "        print(\"Cannot divide by zero.\")\n",
    "    else:\n",
    "        print(f\"Division successful: {result}\")\n"
   ]
  },
  {
   "cell_type": "code",
   "execution_count": null,
   "id": "d2f8ef7f-8f6e-44f1-a419-7e96e0ecb6e3",
   "metadata": {},
   "outputs": [],
   "source": [
    "#What are the common logging levels in Python?\n",
    "\n",
    "'''\n",
    "->Python’s built-in logging module provides five standard logging levels, which indicate the severity or importance of messages:\n",
    "\n",
    "| Level Name | Numeric Value | Description                                                                         |\n",
    "| ---------- | ------------- | ----------------------------------------------------------------------------------- |\n",
    "| `DEBUG`    | 10            | Detailed information, useful for diagnosing problems (used during development).     |\n",
    "| `INFO`     | 20            | General information about program execution (e.g., startup, shutdown, progress).    |\n",
    "| `WARNING`  | 30            | An indication that something unexpected happened, but the program is still running. |\n",
    "| `ERROR`    | 40            | A more serious problem—something failed, and some functionality might not work.     |\n",
    "| `CRITICAL` | 50            | A very serious error—program may not be able to continue running.                   |\n",
    "\n",
    "'''"
   ]
  },
  {
   "cell_type": "code",
   "execution_count": null,
   "id": "493ad673-ac3d-4d0f-9c14-b708a4a76740",
   "metadata": {},
   "outputs": [],
   "source": [
    "#example\n",
    "import logging\n",
    "\n",
    "logging.basicConfig(level=logging.DEBUG)\n",
    "\n",
    "logging.debug(\"This is a debug message\")\n",
    "logging.info(\"This is an info message\")\n",
    "logging.warning(\"This is a warning message\")\n",
    "logging.error(\"This is an error message\")\n",
    "logging.critical(\"This is a critical message\")\n"
   ]
  },
  {
   "cell_type": "code",
   "execution_count": null,
   "id": "46126994-1aa7-46ef-bd31-b7f9faff0f78",
   "metadata": {},
   "outputs": [],
   "source": [
    "#What is the difference between os.fork() and multiprocessing in Python?\n",
    "\n",
    "'''\n",
    "->The difference between os.fork() and the multiprocessing module in Python lies in abstraction, portability, and ease of use. Here's a breakdown:\n",
    "\n",
    " os.fork()\n",
    "What it does: Creates a child process by duplicating the current process.\n",
    "\n",
    "Platform: Unix/Linux only (not available on Windows).\n",
    "\n",
    "Low-level: It’s a direct system call; you manage process behavior manually.\n",
    "\n",
    "Control: You must handle everything — IPC (inter-process communication), synchronization, etc.\n",
    "\n",
    "multiprocessing Module\n",
    "What it does: Provides a high-level API for creating and managing processes.\n",
    "\n",
    "Platform: Cross-platform (works on Windows, macOS, Linux).\n",
    "\n",
    "User-friendly: Handles a lot of the complexity for you (e.g., queues, pipes, shared memory).\n",
    "\n",
    "Safer and more flexible for writing concurrent code in Python.\n",
    "\n",
    "'''"
   ]
  },
  {
   "cell_type": "code",
   "execution_count": null,
   "id": "38d9058f-88e3-4bae-b83a-ab77b2936362",
   "metadata": {},
   "outputs": [],
   "source": [
    "#eaxmple of as.fork()\n",
    "import os\n",
    "\n",
    "pid = os.fork()\n",
    "if pid == 0:\n",
    "    print(\"Child process\")\n",
    "else:\n",
    "    print(\"Parent process\")\n"
   ]
  },
  {
   "cell_type": "code",
   "execution_count": null,
   "id": "6b590e3a-8f86-4f3f-9599-0ecd77e03923",
   "metadata": {},
   "outputs": [],
   "source": [
    "#example of multiprocessing module\n",
    "from multiprocessing import Process\n",
    "\n",
    "def task():\n",
    "    print(\"Child process running\")\n",
    "\n",
    "p = Process(target=task)\n",
    "p.start()\n",
    "p.join()"
   ]
  },
  {
   "cell_type": "code",
   "execution_count": null,
   "id": "5696b9f2-79eb-4516-b848-be847b5d5f86",
   "metadata": {},
   "outputs": [],
   "source": [
    "#What is the importance of closing a file in Python\n",
    "\n",
    "'''\n",
    "-> 1. Releases System Resources\n",
    "Open files consume file descriptors — a limited OS resource.\n",
    "\n",
    "Failing to close files can lead to resource leaks and eventually cause errors like Too many open files.\n",
    "\n",
    " 2. Flushes Data to Disk\n",
    "If you write to a file, the data may be buffered (held in memory temporarily).\n",
    "\n",
    "Closing the file ensures all buffered data is flushed and saved to disk.\n",
    "\n",
    "Without closing, you risk losing data or writing incomplete content.\n",
    "\n",
    "3. Avoids File Corruption\n",
    "Particularly important in write or append mode.\n",
    "\n",
    "Leaving a file open during a program crash or power loss can corrupt the file.\n",
    "\n",
    " 4. Best Practice for Safe File Handling\n",
    "It signals that you're done using the file, improving clarity and code hygiene\n",
    "'''"
   ]
  },
  {
   "cell_type": "code",
   "execution_count": null,
   "id": "c39b0e6f-752b-4dd9-8193-eb14a4b97d63",
   "metadata": {},
   "outputs": [],
   "source": [
    "#EXAMPLE \n",
    "f = open(\"example.txt\", \"w\")\n",
    "f.write(\"Hello, world!\")\n",
    "f.close()"
   ]
  },
  {
   "cell_type": "code",
   "execution_count": null,
   "id": "aed1262d-e55e-4387-8f37-5912561b1519",
   "metadata": {},
   "outputs": [],
   "source": [
    "#Recommended way using with (auto-closes):\n",
    "with open(\"example.txt\", \"w\") as f:\n",
    "    f.write(\"Hello, world!\")\n",
    "# File is automatically closed here"
   ]
  },
  {
   "cell_type": "code",
   "execution_count": null,
   "id": "c09b3eaf-1a98-4f36-a00f-d6480cda59b4",
   "metadata": {},
   "outputs": [],
   "source": [
    "#What is the difference between file.read() and file.readline() in Python?\n",
    "\n",
    "'''\n",
    "-> file.read()\n",
    "Reads the entire file (or a specified number of bytes).\n",
    "\n",
    "Returns a single string containing the whole file content.\n",
    "\n",
    "Can consume a lot of memory for large files.\n",
    "\n",
    "file.readline()\n",
    "Reads one line at a time, ending at the next newline (\\n) or EOF.\n",
    "\n",
    "Useful for processing files line by line.\n",
    "\n",
    "Returns a single line as a string, including the newline character.\n",
    "'''"
   ]
  },
  {
   "cell_type": "code",
   "execution_count": null,
   "id": "7980c451-55f5-4665-9885-1a6d6542851c",
   "metadata": {},
   "outputs": [],
   "source": [
    "#example of file.read()\n",
    "with open(\"example.txt\", \"r\") as f:\n",
    "    content = f.read()\n",
    "    print(content)"
   ]
  },
  {
   "cell_type": "code",
   "execution_count": null,
   "id": "f67313e6-ea6d-4327-be6a-5f59913ecf70",
   "metadata": {},
   "outputs": [],
   "source": [
    "#example of file.reading()\n",
    "with open(\"example.txt\", \"r\") as f:\n",
    "    line = f.readline()\n",
    "    print(line)"
   ]
  },
  {
   "cell_type": "code",
   "execution_count": 6,
   "id": "235536d1-9330-4b5a-8e46-8e35f057d55a",
   "metadata": {},
   "outputs": [],
   "source": [
    "#What is the logging module in Python used for?\n",
    "\n",
    "'''\n",
    "->The logging module in Python is used to record messages that describe the events happening in a program — especially useful for debugging, monitoring, and error tracking.\n",
    "\n",
    "Why Use the logging Module?\n",
    "1. Debugging: Track down issues by recording variable values, function calls, etc.\n",
    "\n",
    "2. Monitoring: Keep logs of what your program is doing in production (e.g., API calls, user actions).\n",
    "\n",
    "3. Error Tracking: Automatically log exceptions and critical errors.\n",
    "\n",
    "4. Audit Trails: Record actions or changes for compliance or security purposes.\n",
    "\n",
    "Features of the logging Module:\n",
    "- Multiple severity levels: DEBUG, INFO, WARNING, ERROR, CRITICAL.\n",
    "\n",
    "- Flexible output options: console, files, email, remote servers, etc.\n",
    "\n",
    "- Supports formatting: timestamps, log level, source line, etc.\n",
    "\n",
    "- Works across modules and libraries (centralized logging).\n",
    "\n",
    "- Doesn’t interfere with standard output (unlike print()).\n",
    "'''"
   ]
  },
  {
   "cell_type": "code",
   "execution_count": null,
   "id": "d1727913-8d28-4858-9258-d17487f60a06",
   "metadata": {},
   "outputs": [],
   "source": [
    "#example \n",
    "import logging\n",
    "\n",
    "logging.basicConfig(level=logging.INFO)\n",
    "\n",
    "logging.debug(\"This is a debug message\")     # Won't show (level too low)\n",
    "logging.info(\"Starting the app\")             # Will show\n",
    "logging.warning(\"Something unexpected happened\")\n",
    "logging.error(\"An error occurred\")\n",
    "logging.critical(\"Critical issue!\")"
   ]
  },
  {
   "cell_type": "code",
   "execution_count": null,
   "id": "bf980bdf-1e4e-4b97-acc6-ef3be8aa27d0",
   "metadata": {},
   "outputs": [],
   "source": [
    "#What is the os module in Python used for in file handling?\n",
    "\n",
    "'''\n",
    "->The os module in Python is used in file handling to perform interactions with the operating system, such as navigating the filesystem, managing files and directories, and retrieving file metadata.\n",
    "\n",
    "Key Uses of os in File Handling:\n",
    " 1. Working with Directories\n",
    "os.getcwd() – Get the current working directory.\n",
    "\n",
    "os.chdir(path) – Change the current directory.\n",
    "\n",
    "os.listdir(path) – List files and folders in a directory.\n",
    "\n",
    "os.makedirs(path) – Create a directory (and parent dirs if needed).\n",
    "\n",
    "os.rmdir(path) – Remove a single empty directory.\n",
    "\n",
    "os.removedirs(path) – Recursively remove empty directories.\n",
    "\n",
    "2. Working with Files\n",
    "os.remove(path) – Delete a file.\n",
    "\n",
    "os.rename(src, dst) – Rename or move a file or directory.\n",
    "\n",
    "os.path.exists(path) – Check if a file or directory exists.\n",
    "\n",
    "os.path.isfile(path) – Check if it's a file.\n",
    "\n",
    "os.path.isdir(path) – Check if it's a directory.\n",
    "\n",
    "3. Getting File Information\n",
    "os.path.getsize(path) – Get file size in bytes.\n",
    "\n",
    "os.path.abspath(path) – Get the absolute file path.\n",
    "\n",
    "os.path.splitext(path) – Split file name and extension.\n",
    "'''"
   ]
  },
  {
   "cell_type": "code",
   "execution_count": null,
   "id": "95f66855-1336-4108-b58d-555ec8b3267a",
   "metadata": {},
   "outputs": [],
   "source": [
    "#example\n",
    "import os\n",
    "\n",
    "# Create a new directory\n",
    "if not os.path.exists(\"logs\"):\n",
    "    os.mkdir(\"logs\")\n",
    "\n",
    "# Rename a file\n",
    "if os.path.exists(\"old.txt\"):\n",
    "    os.rename(\"old.txt\", \"new.txt\")\n",
    "\n",
    "# Delete a file\n",
    "if os.path.exists(\"temp.txt\"):\n",
    "    os.remove(\"temp.txt\")"
   ]
  },
  {
   "cell_type": "code",
   "execution_count": null,
   "id": "9724ef26-a3df-4edf-b95a-d45835421a1f",
   "metadata": {},
   "outputs": [],
   "source": [
    "#What are the challenges associated with memory management in Python?\n",
    "\n",
    "'''\n",
    "-> 1. Circular References\n",
    "Python uses reference counting plus a cyclic garbage collector.\n",
    "\n",
    "Circular references (e.g. object A references B and B references A) can prevent memory from being released immediately unless garbage collection runs.\n",
    "\n",
    "2. Memory Leaks\n",
    "Although Python has garbage collection, leaks can still occur:\n",
    "\n",
    "Holding references too long (e.g., in global variables, caches).\n",
    "\n",
    "Cycles involving objects with __del__() methods (which can’t be collected).\n",
    "\n",
    "Improper use of closures or lambdas capturing large objects.\n",
    "\n",
    "3. Overhead of Abstractions\n",
    "Python objects (even integers) are heavier than in lower-level languages.\n",
    "\n",
    "For example, an integer in Python can use dozens of bytes vs. 4 bytes in C.\n",
    "\n",
    "This adds overhead in memory-intensive apps (e.g., large numerical arrays)\n",
    "\n",
    "4. Lack of Fine-Grained Control\n",
    "Unlike C/C++, you can’t explicitly free memory — you rely on Python’s GC.\n",
    "\n",
    "You have limited control over when garbage collection occurs (though gc.collect() exists).\n",
    "'''"
   ]
  },
  {
   "cell_type": "code",
   "execution_count": null,
   "id": "995b3596-a5d2-4ae6-a2af-8a408bc4ec18",
   "metadata": {},
   "outputs": [],
   "source": [
    "# How do you raise an exception manually in Python?\n",
    "\n",
    "'''\n",
    "->You can raise an exception manually in Python using the raise statement.\n",
    "'''"
   ]
  },
  {
   "cell_type": "code",
   "execution_count": null,
   "id": "e410a93f-101f-4d2b-87b0-7e651b53147f",
   "metadata": {},
   "outputs": [],
   "source": [
    "#basic syntax\n",
    "raise ExceptionType(\"Optional error message\")"
   ]
  },
  {
   "cell_type": "code",
   "execution_count": null,
   "id": "3fa11bd8-6add-4cc7-9d62-272877b66659",
   "metadata": {},
   "outputs": [],
   "source": [
    "#example \n",
    "raise ValueError(\"Invalid input provided\")"
   ]
  },
  {
   "cell_type": "code",
   "execution_count": null,
   "id": "59e8e9a3-3fa4-49f2-802d-12e5abe5ca40",
   "metadata": {},
   "outputs": [],
   "source": [
    "'''This will immediately stop execution and raise a ValueError with the message \"Invalid input provided\".'''"
   ]
  },
  {
   "cell_type": "code",
   "execution_count": null,
   "id": "32f4379a-9f7a-4466-8cb6-b6ebbcc3c05a",
   "metadata": {},
   "outputs": [],
   "source": [
    "#Raising Inside a Function:\n",
    "def divide(a, b):\n",
    "    if b == 0:\n",
    "        raise ZeroDivisionError(\"Cannot divide by zero\")\n",
    "    return a / b"
   ]
  },
  {
   "cell_type": "code",
   "execution_count": null,
   "id": "455b7124-79be-4ac3-9c2e-fd8bcea8a676",
   "metadata": {},
   "outputs": [],
   "source": [
    "#Why is it important to use multithreading in certain applications?\n",
    "\n",
    "'''\n",
    "-> 1. Improved Performance for I/O-bound Tasks\n",
    "Multithreading is particularly useful for I/O-bound tasks like network requests, file I/O, or database queries, where a program spends a significant amount of time waiting for data from external sources.\n",
    "\n",
    "In a single-threaded application, the program would have to wait for each I/O operation to complete before continuing, which can make the program inefficient.\n",
    "\n",
    "With multiple threads, the program can continue working on other tasks while waiting for I/O operations to finish.\n",
    "\n",
    "2. Enhanced Responsiveness in GUI Applications\n",
    "In graphical user interface (GUI) applications, multithreading ensures the UI remains responsive while performing time-consuming tasks in the background (e.g., loading large files, processing data).\n",
    "\n",
    "Without multithreading, the application could freeze or become unresponsive until the task is completed.\n",
    "\n",
    "3. Parallelism for CPU-bound Tasks\n",
    "For CPU-bound tasks (like intensive computation), multithreading can be beneficial in some cases (especially with the multiprocessing module in Python).\n",
    "\n",
    "In multi-core systems, parallel processing can distribute the workload across multiple CPU cores to reduce the total execution time of a task.\n",
    "\n",
    "While Python's Global Interpreter Lock (GIL) limits true parallelism with multithreading (because only one thread can execute Python bytecode at a time), the multiprocessing module can be used to bypass the GIL and achieve full parallelism.\n",
    "'''"
   ]
  },
  {
   "cell_type": "markdown",
   "id": "b7cbb69c-8303-4d37-80d8-bbf85ae3319d",
   "metadata": {},
   "source": [
    "#practical questions"
   ]
  },
  {
   "cell_type": "code",
   "execution_count": null,
   "id": "b75c66ba-3e22-4dae-b137-47b634fc82c2",
   "metadata": {},
   "outputs": [],
   "source": [
    "#How can you open a file for writing in Python and write a string to it?\n",
    "# Open the file in write mode ('w')\n",
    "with open('example.txt', 'w') as file:\n",
    "    file.write('Hello, world!')"
   ]
  },
  {
   "cell_type": "code",
   "execution_count": 2,
   "id": "c9071957-18b7-45b0-9a33-33a1732ccf36",
   "metadata": {},
   "outputs": [
    {
     "name": "stdout",
     "output_type": "stream",
     "text": [
      "This is a new line of text.\n"
     ]
    }
   ],
   "source": [
    "#Write a Python program to read the contents of a file and print each line.\n",
    "# Open the file in read mode ('r')\n",
    "with open('example.txt', 'r') as file:\n",
    "    for line in file:\n",
    "        print(line, end='')  # end='' avoids adding extra newlines"
   ]
  },
  {
   "cell_type": "code",
   "execution_count": 6,
   "id": "f12b9c2c-282c-479e-b95c-cbb38ed3f738",
   "metadata": {},
   "outputs": [
    {
     "name": "stdout",
     "output_type": "stream",
     "text": [
      "Hello, world!"
     ]
    }
   ],
   "source": [
    "#How would you handle a case where the file doesn't exist while trying to open it for reading?\n",
    "try:\n",
    "    with open('example.txt', 'r') as file:\n",
    "        for line in file:\n",
    "            print(line, end='')\n",
    "except FileNotFoundError:\n",
    "    print(\"The file does not exist.\")\n",
    "\n"
   ]
  },
  {
   "cell_type": "code",
   "execution_count": 9,
   "id": "f584c5e3-7958-4db6-b5e1-7ee6bf22c262",
   "metadata": {},
   "outputs": [
    {
     "name": "stdout",
     "output_type": "stream",
     "text": [
      "Error: Cannot divide by zero.\n"
     ]
    }
   ],
   "source": [
    "#How would you catch and handle division by zero error in Python?\n",
    "try:\n",
    "    numerator = 10\n",
    "    denominator = 0\n",
    "    result = numerator / denominator\n",
    "    print(\"Result:\", result)\n",
    "except ZeroDivisionError:\n",
    "    print(\"Error: Cannot divide by zero.\")\n"
   ]
  },
  {
   "cell_type": "code",
   "execution_count": 8,
   "id": "d9280835-1ada-4f24-ba7a-8da7bc89d663",
   "metadata": {},
   "outputs": [
    {
     "name": "stdout",
     "output_type": "stream",
     "text": [
      "The source file does not exist.\n"
     ]
    }
   ],
   "source": [
    "#Write a Python script that reads from one file and writes its content to another file.\n",
    "# Read from source file and write to destination file\n",
    "try:\n",
    "    with open('source.txt', 'r') as source_file:\n",
    "        content = source_file.read()\n",
    "\n",
    "    with open('destination.txt', 'w') as dest_file:\n",
    "        dest_file.write(content)\n",
    "\n",
    "    print(\"File copied successfully.\")\n",
    "except FileNotFoundError:\n",
    "    print(\"The source file does not exist.\")\n",
    "\n"
   ]
  },
  {
   "cell_type": "code",
   "execution_count": 6,
   "id": "e38671ce-4416-4ce1-b222-e95200a2b674",
   "metadata": {},
   "outputs": [
    {
     "name": "stdout",
     "output_type": "stream",
     "text": [
      "An error occurred. Check 'error.log' for details.\n"
     ]
    }
   ],
   "source": [
    "#Write a Python program that logs an error message to a log file when a division by zero exception occurs\n",
    "import logging\n",
    "\n",
    "# Configure logging to write to a file\n",
    "logging.basicConfig(\n",
    "    filename='error.log',     # Log file name\n",
    "    level=logging.ERROR,      # Log only error messages or worse\n",
    "    format='%(asctime)s - %(levelname)s - %(message)s'  # Log format\n",
    ")\n",
    "\n",
    "try:\n",
    "    numerator = 10\n",
    "    denominator = 0\n",
    "    result = numerator / denominator\n",
    "    print(f\"Result: {result}\")\n",
    "except ZeroDivisionError as e:\n",
    "    logging.error(\"Division by zero error occurred\", exc_info=True)\n",
    "    print(\"An error occurred. Check 'error.log' for details.\")\n",
    "\n"
   ]
  },
  {
   "cell_type": "code",
   "execution_count": 11,
   "id": "b63f49e4-663d-4c77-90e5-62001a096a81",
   "metadata": {},
   "outputs": [
    {
     "name": "stderr",
     "output_type": "stream",
     "text": [
      "2025-05-11 10:43:08,687 - DEBUG - This is a debug message\n",
      "2025-05-11 10:43:08,691 - INFO - This is an info message\n",
      "2025-05-11 10:43:08,692 - WARNING - This is a warning message\n",
      "2025-05-11 10:43:08,694 - ERROR - This is an error message\n",
      "2025-05-11 10:43:08,696 - CRITICAL - This is a critical message\n"
     ]
    }
   ],
   "source": [
    "#How do you log information at different levels (INFO, ERROR, WARNING) in Python using the logging module?\n",
    "import logging\n",
    "\n",
    "# Configure logging\n",
    "logging.basicConfig(\n",
    "    level=logging.DEBUG,  # Minimum level to capture\n",
    "    format='%(asctime)s - %(levelname)s - %(message)s'\n",
    ")\n",
    "\n",
    "# Log messages at various levels\n",
    "logging.debug(\"This is a debug message\")      # Lower than INFO, used for diagnostics\n",
    "logging.info(\"This is an info message\")       # General information\n",
    "logging.warning(\"This is a warning message\")  # Something unexpected\n",
    "logging.error(\"This is an error message\")     # A serious problem\n",
    "logging.critical(\"This is a critical message\")# A very serious error\n"
   ]
  },
  {
   "cell_type": "code",
   "execution_count": 13,
   "id": "43f6b4dc-09d6-481e-bfcf-e7f3f230ebfa",
   "metadata": {},
   "outputs": [
    {
     "name": "stdout",
     "output_type": "stream",
     "text": [
      "File content:\n",
      "Hello, world!\n"
     ]
    }
   ],
   "source": [
    "#Write a program to handle a file opening error using exception handling.\n",
    "def open_file(filename):\n",
    "    try:\n",
    "        with open(filename, 'r') as file:\n",
    "            content = file.read()\n",
    "            print(\"File content:\")\n",
    "            print(content)\n",
    "    except FileNotFoundError:\n",
    "        print(f\"Error: The file '{filename}' was not found.\")\n",
    "    except PermissionError:\n",
    "        print(f\"Error: Permission denied to open the file '{filename}'.\")\n",
    "    except Exception as e:\n",
    "        print(f\"An unexpected error occurred: {e}\")\n",
    "\n",
    "# Example usage\n",
    "open_file(\"example.txt\")\n",
    "\n"
   ]
  },
  {
   "cell_type": "code",
   "execution_count": 14,
   "id": "77fefe20-3fb3-4420-934c-683f182b3e79",
   "metadata": {},
   "outputs": [
    {
     "name": "stdout",
     "output_type": "stream",
     "text": [
      "['Hello, world!']\n"
     ]
    }
   ],
   "source": [
    "#How can you read a file line by line and store its content in a list in Python?\n",
    "with open('example.txt', 'r') as file:\n",
    "    lines = file.readlines()\n",
    "\n",
    "# Each element in 'lines' is a line from the file (including newline characters)\n",
    "print(lines)\n"
   ]
  },
  {
   "cell_type": "code",
   "execution_count": 15,
   "id": "33fba858-ac95-4b2e-b35e-a1bf53636cdd",
   "metadata": {},
   "outputs": [
    {
     "name": "stdout",
     "output_type": "stream",
     "text": [
      "['Hello, world!']\n"
     ]
    }
   ],
   "source": [
    "#Method 2: Using list comprehension\n",
    "with open('example.txt', 'r') as file:\n",
    "    lines = [line for line in file]\n",
    "\n",
    "print(lines)\n"
   ]
  },
  {
   "cell_type": "code",
   "execution_count": 16,
   "id": "4fc8973b-05b7-4894-a62f-9110c23884ec",
   "metadata": {},
   "outputs": [],
   "source": [
    "#How can you append data to an existing file in Python?\n",
    "# Open file in append mode\n",
    "with open('example.txt', 'a') as file:\n",
    "    file.write(\"This is a new line of text.\\n\")\n",
    "\n"
   ]
  },
  {
   "cell_type": "code",
   "execution_count": 19,
   "id": "71485ae3-e25f-49b4-8b56-f90b6992e5a8",
   "metadata": {},
   "outputs": [
    {
     "name": "stdout",
     "output_type": "stream",
     "text": [
      "Value for key 'name': Alice\n",
      "Error: The key 'gender' does not exist in the dictionary.\n"
     ]
    }
   ],
   "source": [
    "#Write a Python program that uses a try-except block to handle an error when attempting to access a dictionary key that doesn't exist\n",
    "def access_dict_key(my_dict, key):\n",
    "    try:\n",
    "        value = my_dict[key]\n",
    "        print(f\"Value for key '{key}': {value}\")\n",
    "    except KeyError:\n",
    "        print(f\"Error: The key '{key}' does not exist in the dictionary.\")\n",
    "\n",
    "# Example dictionary\n",
    "my_dict = {'name': 'Alice', 'age': 25, 'city': 'New York'}\n",
    "\n",
    "# Example usage\n",
    "access_dict_key(my_dict, 'name')  # Existing key\n",
    "access_dict_key(my_dict, 'gender')  # Non-existent key\n"
   ]
  },
  {
   "cell_type": "code",
   "execution_count": 14,
   "id": "fadb183e-3291-492a-94df-35cffeffbf59",
   "metadata": {},
   "outputs": [
    {
     "name": "stdout",
     "output_type": "stream",
     "text": [
      "ZeroDivisionError occurred: division by zero\n"
     ]
    }
   ],
   "source": [
    "#Write a program that demonstrates using multiple except blocks to handle different types of exceptions?\n",
    "def demonstrate_exceptions():\n",
    "    try:\n",
    "        # Example 1: ZeroDivisionError\n",
    "        num1 = 10\n",
    "        num2 = 0\n",
    "        print(f\"Dividing {num1} by {num2}: {num1 / num2}\")\n",
    "        \n",
    "        # Example 2: ValueError\n",
    "        user_input = \"abc\"\n",
    "        print(f\"Converting '{user_input}' to integer: {int(user_input)}\")\n",
    "        \n",
    "        # Example 3: IndexError\n",
    "        my_list = [1, 2, 3]\n",
    "        print(f\"Accessing element at index 5: {my_list[5]}\")\n",
    "        \n",
    "    except ZeroDivisionError as e:\n",
    "        print(f\"ZeroDivisionError occurred: {e}\")\n",
    "    except ValueError as e:\n",
    "        print(f\"ValueError occurred: {e}\")\n",
    "    except IndexError as e:\n",
    "        print(f\"IndexError occurred: {e}\")\n",
    "    except Exception as e:\n",
    "        print(f\"An unexpected error occurred: {e}\")\n",
    "\n",
    "# Run the function to demonstrate exception handling\n",
    "demonstrate_exceptions()\n",
    "\n"
   ]
  },
  {
   "cell_type": "code",
   "execution_count": 12,
   "id": "b8cfe064-a975-4894-a76f-f6dfd14eee46",
   "metadata": {},
   "outputs": [
    {
     "name": "stdout",
     "output_type": "stream",
     "text": [
      "The file 'example.txt' does not exist.\n"
     ]
    }
   ],
   "source": [
    "#How would you check if a file exists before attempting to read it in Python?\n",
    "import os\n",
    "\n",
    "file_path = 'example.txt'\n",
    "\n",
    "if os.path.exists(file_path):\n",
    "    with open(file_path, 'r') as file:\n",
    "        contents = file.read()\n",
    "        print(contents)\n",
    "else:\n",
    "    print(f\"The file '{file_path}' does not exist.\")\n",
    "\n"
   ]
  },
  {
   "cell_type": "code",
   "execution_count": 10,
   "id": "8c8aece4-ec30-46d2-bf7f-8163ba2f0d34",
   "metadata": {},
   "outputs": [
    {
     "name": "stdout",
     "output_type": "stream",
     "text": [
      "Check 'app.log' for logged messages.\n"
     ]
    }
   ],
   "source": [
    "#Write a program that uses the logging module to log both informational and error messages.\n",
    "import logging\n",
    "\n",
    "# Configure logging\n",
    "logging.basicConfig(\n",
    "    filename='app.log',            # Log file name\n",
    "    level=logging.DEBUG,           # Capture INFO and ERROR level messages\n",
    "    format='%(asctime)s - %(levelname)s - %(message)s'\n",
    ")\n",
    "\n",
    "def divide_numbers(a, b):\n",
    "    logging.info(f\"Attempting to divide {a} by {b}\")\n",
    "    try:\n",
    "        result = a / b\n",
    "        logging.info(f\"Division successful: {a} / {b} = {result}\")\n",
    "        return result\n",
    "    except ZeroDivisionError as e:\n",
    "        logging.error(f\"Error occurred: {e}\")\n",
    "        return None\n",
    "\n",
    "# Example usage\n",
    "divide_numbers(10, 2)\n",
    "divide_numbers(5, 0)\n",
    "\n",
    "print(\"Check 'app.log' for logged messages.\")\n",
    "\n"
   ]
  },
  {
   "cell_type": "code",
   "execution_count": 17,
   "id": "d744a0e7-dd44-45ab-9bc3-db339cc6b249",
   "metadata": {},
   "outputs": [
    {
     "name": "stdout",
     "output_type": "stream",
     "text": [
      "File content:\n",
      "Hello, world!This is a new line of text.\n",
      "\n"
     ]
    }
   ],
   "source": [
    "#Write a Python program that prints the content of a file and handles the case when the file is empty.\n",
    "def print_file_content(filename):\n",
    "    try:\n",
    "        with open(filename, 'r') as file:\n",
    "            content = file.read()\n",
    "            if not content:\n",
    "                print(f\"The file '{filename}' is empty.\")\n",
    "            else:\n",
    "                print(\"File content:\")\n",
    "                print(content)\n",
    "    except FileNotFoundError:\n",
    "        print(f\"Error: The file '{filename}' was not found.\")\n",
    "    except PermissionError:\n",
    "        print(f\"Error: Permission denied to read the file '{filename}'.\")\n",
    "    except Exception as e:\n",
    "        print(f\"An unexpected error occurred: {e}\")\n",
    "\n",
    "# Example usage\n",
    "print_file_content(\"example.txt\")\n",
    "\n"
   ]
  },
  {
   "cell_type": "code",
   "execution_count": 20,
   "id": "af0b79f9-dc5f-4c06-b7ad-2143a7a6c8d0",
   "metadata": {},
   "outputs": [
    {
     "name": "stdout",
     "output_type": "stream",
     "text": [
      "(1556, 3994256)\n"
     ]
    }
   ],
   "source": [
    "#Demonstrate how to use memory profiling to check the memory usage of a small program.\n",
    "# importing the module\n",
    "import tracemalloc\n",
    "\n",
    "# code or function for which memory\n",
    "# has to be monitored\n",
    "def app():\n",
    "    lt = []\n",
    "    for i in range(0, 100000):\n",
    "        lt.append(i)\n",
    "\n",
    "# starting the monitoring\n",
    "tracemalloc.start()\n",
    "\n",
    "# function call\n",
    "app()\n",
    "\n",
    "# displaying the memory\n",
    "print(tracemalloc.get_traced_memory())\n",
    "\n",
    "# stopping the library\n",
    "tracemalloc.stop()"
   ]
  },
  {
   "cell_type": "code",
   "execution_count": 7,
   "id": "dd1c3fab-6b84-498c-a68a-13512d97158d",
   "metadata": {},
   "outputs": [
    {
     "name": "stdout",
     "output_type": "stream",
     "text": [
      "Successfully wrote 10 numbers to 'numbers.txt'.\n"
     ]
    }
   ],
   "source": [
    "#Write a Python program to create and write a list of numbers to a file, one number per line.\n",
    "def write_numbers_to_file(filename, numbers):\n",
    "    try:\n",
    "        with open(filename, 'w') as file:\n",
    "            for number in numbers:\n",
    "                file.write(f\"{number}\\n\")\n",
    "        print(f\"Successfully wrote {len(numbers)} numbers to '{filename}'.\")\n",
    "    except Exception as e:\n",
    "        print(f\"An error occurred: {e}\")\n",
    "\n",
    "# Example usage\n",
    "numbers_list = list(range(1, 11))  # Creates a list [1, 2, ..., 10]\n",
    "write_numbers_to_file('numbers.txt', numbers_list)\n",
    "\n"
   ]
  },
  {
   "cell_type": "code",
   "execution_count": 21,
   "id": "b5cd28f0-fdf2-4427-9833-5e0172e7c186",
   "metadata": {},
   "outputs": [
    {
     "name": "stderr",
     "output_type": "stream",
     "text": [
      "2025-05-11 10:54:56,382 - DEBUG - This is a debug message.\n",
      "2025-05-11 10:54:56,393 - INFO - This is an info message.\n",
      "2025-05-11 10:54:56,393 - WARNING - This is a warning message.\n",
      "2025-05-11 10:54:56,396 - ERROR - This is an error message.\n",
      "2025-05-11 10:54:56,396 - CRITICAL - This is a critical message.\n"
     ]
    }
   ],
   "source": [
    "#How would you implement a basic logging setup that logs to a file with rotation after 1MB?\n",
    "import logging\n",
    "from logging.handlers import RotatingFileHandler\n",
    "\n",
    "# Create a logger\n",
    "logger = logging.getLogger('MyLogger')\n",
    "logger.setLevel(logging.DEBUG)  # Set the logging level\n",
    "\n",
    "# Create a RotatingFileHandler with a maximum file size of 1MB\n",
    "log_handler = RotatingFileHandler('app.log', maxBytes=1*1024*1024, backupCount=3)  # 1MB max size, keep 3 backups\n",
    "\n",
    "# Create a formatter and set it for the handler\n",
    "formatter = logging.Formatter('%(asctime)s - %(levelname)s - %(message)s')\n",
    "log_handler.setFormatter(formatter)\n",
    "\n",
    "# Add the handler to the logger\n",
    "logger.addHandler(log_handler)\n",
    "\n",
    "# Example log messages\n",
    "logger.debug(\"This is a debug message.\")\n",
    "logger.info(\"This is an info message.\")\n",
    "logger.warning(\"This is a warning message.\")\n",
    "logger.error(\"This is an error message.\")\n",
    "logger.critical(\"This is a critical message.\")\n",
    "\n"
   ]
  },
  {
   "cell_type": "code",
   "execution_count": 3,
   "id": "daf91caa-a715-484b-af8d-4d86f3c9d448",
   "metadata": {},
   "outputs": [
    {
     "name": "stdout",
     "output_type": "stream",
     "text": [
      "IndexError caught: list index out of range\n"
     ]
    }
   ],
   "source": [
    "#Write a program that handles both IndexError and KeyError using a try-except block.\n",
    "def access_elements():\n",
    "    my_list = [10, 20, 30]\n",
    "    my_dict = {'a': 1, 'b': 2}\n",
    "\n",
    "    try:\n",
    "        # Attempt to access an out-of-range index\n",
    "        print(\"List element at index 5:\", my_list[5])\n",
    "\n",
    "        # Attempt to access a missing key in the dictionary\n",
    "        print(\"Value for key 'z':\", my_dict['z'])\n",
    "\n",
    "    except IndexError as ie:\n",
    "        print(f\"IndexError caught: {ie}\")\n",
    "\n",
    "    except KeyError as ke:\n",
    "        print(f\"KeyError caught: {ke}\")\n",
    "\n",
    "# Run the function\n",
    "access_elements()\n",
    "\n"
   ]
  },
  {
   "cell_type": "code",
   "execution_count": 22,
   "id": "ecae718e-14ea-4f1c-b1e0-38fe5312e239",
   "metadata": {},
   "outputs": [
    {
     "name": "stdout",
     "output_type": "stream",
     "text": [
      "Hello, world!This is a new line of text.\n",
      "\n"
     ]
    }
   ],
   "source": [
    "#How would you open a file and read its contents using a context manager in Python?\n",
    "# Using a context manager to open and read a file\n",
    "with open('example.txt', 'r') as file:\n",
    "    content = file.read()\n",
    "    print(content)  # Print the content of the file\n",
    "\n"
   ]
  },
  {
   "cell_type": "code",
   "execution_count": 23,
   "id": "63371c5d-08dd-440b-800b-a6c0bfdcbb3f",
   "metadata": {},
   "outputs": [
    {
     "name": "stdout",
     "output_type": "stream",
     "text": [
      "The word 'Python' appears 0 times in the file.\n"
     ]
    }
   ],
   "source": [
    "# Write a Python program that reads a file and prints the number of occurrences of a specific word\n",
    "def count_word_occurrences(filename, word):\n",
    "    try:\n",
    "        with open(filename, 'r') as file:\n",
    "            content = file.read()\n",
    "            word_count = content.lower().split().count(word.lower())\n",
    "            print(f\"The word '{word}' appears {word_count} times in the file.\")\n",
    "    except FileNotFoundError:\n",
    "        print(f\"Error: The file '{filename}' was not found.\")\n",
    "    except Exception as e:\n",
    "        print(f\"An unexpected error occurred: {e}\")\n",
    "\n",
    "# Example usage\n",
    "filename = \"example.txt\"  # Replace with your file name\n",
    "word_to_search = \"Python\"  # Replace with the word you're searching for\n",
    "count_word_occurrences(filename, word_to_search)\n",
    "\n"
   ]
  },
  {
   "cell_type": "code",
   "execution_count": null,
   "id": "8fb23636-093f-4bf4-b73d-61b4346e9e1d",
   "metadata": {},
   "outputs": [],
   "source": [
    "#Write a Python program that writes to a log file when an error occurs during file handling.\n",
    "import logging\n",
    "\n",
    "# Configure logging\n",
    "logging.basicConfig(\n",
    "    filename='error_log.txt',  # Log file name\n",
    "    level=logging.ERROR,       # Log only errors and above\n",
    "    format='%(asctime)s - %(levelname)s - %(message)s'\n",
    ")\n",
    "\n",
    "def handle_file_operations():\n",
    "    try:\n",
    "        # Example: Attempt to open a non-existent file for reading\n",
    "        with open('non_existent_file.txt', 'r') as file:\n",
    "            content = file.read()\n",
    "            print(content)\n",
    "    except FileNotFoundError as e:\n",
    "        logging.error(f\"File not found: {e}\")\n",
    "        print(\"An error occurred. Please check the log file for details.\")\n",
    "    except Exception as e:\n",
    "        logging.error(f\"An unexpected error occurred: {e}\")\n",
    "        print(\"An unexpected error occurred. Please check the log file for details.\")\n",
    "\n",
    "if __name__ == \"__main__\":\n",
    "    handle_file_operations()\n"
   ]
  },
  {
   "cell_type": "code",
   "execution_count": null,
   "id": "b0780f3a-4fa5-42da-b376-2259db309320",
   "metadata": {},
   "outputs": [],
   "source": []
  },
  {
   "cell_type": "code",
   "execution_count": null,
   "id": "b35fa2de-636b-4c59-ae0a-ebf45b1a2af3",
   "metadata": {},
   "outputs": [],
   "source": []
  },
  {
   "cell_type": "code",
   "execution_count": null,
   "id": "ea76ddb8-9481-4a54-9aed-708408b29f9e",
   "metadata": {},
   "outputs": [],
   "source": []
  },
  {
   "cell_type": "code",
   "execution_count": null,
   "id": "0be04c39-3341-4c42-a1a2-b70740ea54f8",
   "metadata": {},
   "outputs": [],
   "source": []
  },
  {
   "cell_type": "code",
   "execution_count": null,
   "id": "2c5658cd-b81c-429a-adec-dcc9315eeb38",
   "metadata": {},
   "outputs": [],
   "source": []
  },
  {
   "cell_type": "code",
   "execution_count": null,
   "id": "9aa85cb1-d160-45dc-8e27-3671880c9def",
   "metadata": {},
   "outputs": [],
   "source": []
  }
 ],
 "metadata": {
  "kernelspec": {
   "display_name": "Python 3 (ipykernel)",
   "language": "python",
   "name": "python3"
  },
  "language_info": {
   "codemirror_mode": {
    "name": "ipython",
    "version": 3
   },
   "file_extension": ".py",
   "mimetype": "text/x-python",
   "name": "python",
   "nbconvert_exporter": "python",
   "pygments_lexer": "ipython3",
   "version": "3.12.7"
  }
 },
 "nbformat": 4,
 "nbformat_minor": 5
}
